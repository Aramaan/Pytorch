{
  "nbformat": 4,
  "nbformat_minor": 0,
  "metadata": {
    "colab": {
      "provenance": []
    },
    "kernelspec": {
      "name": "python3",
      "display_name": "Python 3"
    },
    "language_info": {
      "name": "python"
    }
  },
  "cells": [
    {
      "cell_type": "code",
      "source": [
        "import torch\n",
        "import pandas as pd\n",
        "import numpy as np\n",
        "import matplotlib.pyplot as plt\n",
        "print(torch.__version__)\n"
      ],
      "metadata": {
        "colab": {
          "base_uri": "https://localhost:8080/"
        },
        "id": "t1WvyY-iDdZD",
        "outputId": "1e23e4fd-d46c-4726-abc9-1087a599fcd7"
      },
      "execution_count": 1,
      "outputs": [
        {
          "output_type": "stream",
          "name": "stdout",
          "text": [
            "2.1.0+cu118\n"
          ]
        }
      ]
    },
    {
      "cell_type": "markdown",
      "source": [
        "# Introduction to tensors\n",
        "##Creating tensors\n",
        "  \n"
      ],
      "metadata": {
        "id": "sGSYvRfXGNzj"
      }
    },
    {
      "cell_type": "code",
      "source": [
        "vector = torch.tensor([2,4])"
      ],
      "metadata": {
        "id": "an4HXpVEIpzw"
      },
      "execution_count": 2,
      "outputs": []
    },
    {
      "cell_type": "code",
      "source": [
        "vector.shape"
      ],
      "metadata": {
        "colab": {
          "base_uri": "https://localhost:8080/"
        },
        "id": "n5-XU9ejLd-F",
        "outputId": "ed1a7c00-fbe3-4364-d628-a6bd3b3c75c2"
      },
      "execution_count": 3,
      "outputs": [
        {
          "output_type": "execute_result",
          "data": {
            "text/plain": [
              "torch.Size([2])"
            ]
          },
          "metadata": {},
          "execution_count": 3
        }
      ]
    },
    {
      "cell_type": "code",
      "source": [
        "matrix = torch.tensor([[7,8],[1,2]])"
      ],
      "metadata": {
        "id": "YmpL2s5XMPsY"
      },
      "execution_count": 4,
      "outputs": []
    },
    {
      "cell_type": "markdown",
      "source": [
        "###Random Tensors"
      ],
      "metadata": {
        "id": "tA79i8htL3Er"
      }
    },
    {
      "cell_type": "code",
      "source": [
        "random_tensor = torch.rand(3,3)\n",
        "random_tensor"
      ],
      "metadata": {
        "id": "nwGLL_qtMJV5",
        "colab": {
          "base_uri": "https://localhost:8080/"
        },
        "outputId": "059a08a7-7cf5-4826-814e-9d9042afe905"
      },
      "execution_count": 5,
      "outputs": [
        {
          "output_type": "execute_result",
          "data": {
            "text/plain": [
              "tensor([[0.5708, 0.9619, 0.1366],\n",
              "        [0.8724, 0.5262, 0.1898],\n",
              "        [0.2692, 0.7292, 0.0453]])"
            ]
          },
          "metadata": {},
          "execution_count": 5
        }
      ]
    },
    {
      "cell_type": "markdown",
      "source": [
        "###Zeros and Ones"
      ],
      "metadata": {
        "id": "f7x5YNuXm9B_"
      }
    },
    {
      "cell_type": "code",
      "source": [
        "zeros = torch.zeros(size=(3,4))\n",
        "ones = torch.ones(size =(3,4))"
      ],
      "metadata": {
        "id": "bRTxmP6Uo5qp"
      },
      "execution_count": 6,
      "outputs": []
    },
    {
      "cell_type": "markdown",
      "source": [
        "##Creating range of tensors and tensor-like"
      ],
      "metadata": {
        "id": "Or9xKMgcpNJv"
      }
    },
    {
      "cell_type": "code",
      "source": [
        "one_to_ten = torch.arange(1,11,2)\n",
        "one_to_ten"
      ],
      "metadata": {
        "colab": {
          "base_uri": "https://localhost:8080/"
        },
        "id": "y7qL3glKE3ab",
        "outputId": "2b21bd62-c29b-485f-c8f4-8002dbcd45fd"
      },
      "execution_count": 9,
      "outputs": [
        {
          "output_type": "execute_result",
          "data": {
            "text/plain": [
              "tensor([1, 3, 5, 7, 9])"
            ]
          },
          "metadata": {},
          "execution_count": 9
        }
      ]
    },
    {
      "cell_type": "code",
      "source": [
        "ten_ones = torch.ones_like(one_to_ten)\n",
        "ten_ones"
      ],
      "metadata": {
        "colab": {
          "base_uri": "https://localhost:8080/"
        },
        "id": "UeKTUyj9E8xp",
        "outputId": "688948fc-36c1-4539-baaa-01677ecdef78"
      },
      "execution_count": 13,
      "outputs": [
        {
          "output_type": "execute_result",
          "data": {
            "text/plain": [
              "tensor([1, 1, 1, 1, 1])"
            ]
          },
          "metadata": {},
          "execution_count": 13
        }
      ]
    },
    {
      "cell_type": "markdown",
      "source": [
        "##Tensor Datatypes"
      ],
      "metadata": {
        "id": "rptfJ-s0Fm-E"
      }
    },
    {
      "cell_type": "code",
      "source": [
        "float_32_tensor = torch.tensor([3.0,6.0,9.0],\n",
        "                               dtype = torch.float16,\n",
        "                               device = None,\n",
        "                               requires_grad = False)\n",
        "float_32_tensor"
      ],
      "metadata": {
        "colab": {
          "base_uri": "https://localhost:8080/"
        },
        "id": "XtM0QuerGEDg",
        "outputId": "251540fa-3e30-4682-ba16-2e8b32a5eff6"
      },
      "execution_count": 18,
      "outputs": [
        {
          "output_type": "execute_result",
          "data": {
            "text/plain": [
              "tensor([3., 6., 9.], dtype=torch.float16)"
            ]
          },
          "metadata": {},
          "execution_count": 18
        }
      ]
    },
    {
      "cell_type": "code",
      "source": [
        "\n",
        "float_16_tensor = float_32_tensor.type(torch.float16)\n",
        "float_16_tensor\n"
      ],
      "metadata": {
        "colab": {
          "base_uri": "https://localhost:8080/"
        },
        "id": "7MCsrqCSGMAx",
        "outputId": "abec6d4b-95c7-4ad3-9f06-b805bdf79e93"
      },
      "execution_count": 19,
      "outputs": [
        {
          "output_type": "execute_result",
          "data": {
            "text/plain": [
              "tensor([3., 6., 9.], dtype=torch.float16)"
            ]
          },
          "metadata": {},
          "execution_count": 19
        }
      ]
    },
    {
      "cell_type": "markdown",
      "source": [
        "## Manipulating tensor\n"
      ],
      "metadata": {
        "id": "bhn-cat0I15n"
      }
    },
    {
      "cell_type": "code",
      "source": [
        "# Create tensor"
      ],
      "metadata": {
        "id": "Qf10vh6IKRi2"
      },
      "execution_count": null,
      "outputs": []
    },
    {
      "cell_type": "code",
      "source": [
        "tensor = torch.tensor([1,2,3])\n",
        "tensor + 10"
      ],
      "metadata": {
        "colab": {
          "base_uri": "https://localhost:8080/"
        },
        "id": "UANQxWEkKQ9p",
        "outputId": "e9e8ba1c-3c53-44fc-820a-a2d555867888"
      },
      "execution_count": 21,
      "outputs": [
        {
          "output_type": "execute_result",
          "data": {
            "text/plain": [
              "tensor([11, 12, 13])"
            ]
          },
          "metadata": {},
          "execution_count": 21
        }
      ]
    },
    {
      "cell_type": "code",
      "source": [
        "tensor*10"
      ],
      "metadata": {
        "colab": {
          "base_uri": "https://localhost:8080/"
        },
        "id": "kNcfcV6fMNmS",
        "outputId": "292fe198-68ae-4595-fb8a-88d0743796a1"
      },
      "execution_count": 22,
      "outputs": [
        {
          "output_type": "execute_result",
          "data": {
            "text/plain": [
              "tensor([10, 20, 30])"
            ]
          },
          "metadata": {},
          "execution_count": 22
        }
      ]
    },
    {
      "cell_type": "code",
      "source": [
        "tensor -10"
      ],
      "metadata": {
        "colab": {
          "base_uri": "https://localhost:8080/"
        },
        "id": "LO2rRwQrMZMW",
        "outputId": "013c6693-f68d-4b36-bc58-a7aee36ebb52"
      },
      "execution_count": 23,
      "outputs": [
        {
          "output_type": "execute_result",
          "data": {
            "text/plain": [
              "tensor([-9, -8, -7])"
            ]
          },
          "metadata": {},
          "execution_count": 23
        }
      ]
    },
    {
      "cell_type": "code",
      "source": [
        "torch.mul(tensor,10)"
      ],
      "metadata": {
        "colab": {
          "base_uri": "https://localhost:8080/"
        },
        "id": "Wp0k5E3SMmFT",
        "outputId": "8f52edd0-e4ab-44d6-fc2a-b45912eb303b"
      },
      "execution_count": 24,
      "outputs": [
        {
          "output_type": "execute_result",
          "data": {
            "text/plain": [
              "tensor([10, 20, 30])"
            ]
          },
          "metadata": {},
          "execution_count": 24
        }
      ]
    },
    {
      "cell_type": "code",
      "source": [
        "tensor*tensor #element wise"
      ],
      "metadata": {
        "colab": {
          "base_uri": "https://localhost:8080/"
        },
        "id": "hrCXTbksMvdG",
        "outputId": "08c1b9c6-5d86-4a84-9b53-a0bb024d559c"
      },
      "execution_count": 25,
      "outputs": [
        {
          "output_type": "execute_result",
          "data": {
            "text/plain": [
              "tensor([1, 4, 9])"
            ]
          },
          "metadata": {},
          "execution_count": 25
        }
      ]
    },
    {
      "cell_type": "code",
      "source": [
        "%%time\n",
        "torch.matmul(tensor,tensor)"
      ],
      "metadata": {
        "colab": {
          "base_uri": "https://localhost:8080/"
        },
        "id": "oNk2Lt62N2UI",
        "outputId": "d36d3fc1-fc34-4468-98f9-d7317efebc0a"
      },
      "execution_count": 27,
      "outputs": [
        {
          "output_type": "stream",
          "name": "stdout",
          "text": [
            "CPU times: user 584 µs, sys: 0 ns, total: 584 µs\n",
            "Wall time: 480 µs\n"
          ]
        },
        {
          "output_type": "execute_result",
          "data": {
            "text/plain": [
              "tensor(14)"
            ]
          },
          "metadata": {},
          "execution_count": 27
        }
      ]
    },
    {
      "cell_type": "code",
      "source": [
        "tensor2 = torch.rand(3,5)\n",
        "tensor2"
      ],
      "metadata": {
        "colab": {
          "base_uri": "https://localhost:8080/"
        },
        "id": "bhZqSQWyN9pi",
        "outputId": "da89615c-b80c-4485-a8be-99ff31baa60c"
      },
      "execution_count": 30,
      "outputs": [
        {
          "output_type": "execute_result",
          "data": {
            "text/plain": [
              "tensor([[0.6726, 0.6595, 0.8482, 0.0768, 0.3188],\n",
              "        [0.4462, 0.5512, 0.5557, 0.6437, 0.7317],\n",
              "        [0.9450, 0.2106, 0.7160, 0.0775, 0.3683]])"
            ]
          },
          "metadata": {},
          "execution_count": 30
        }
      ]
    },
    {
      "cell_type": "code",
      "source": [
        "tensor2.T"
      ],
      "metadata": {
        "colab": {
          "base_uri": "https://localhost:8080/"
        },
        "id": "A0NhK3GNRQ6S",
        "outputId": "9b92091c-a01b-4f42-ea3d-20b8e3dd36bd"
      },
      "execution_count": 31,
      "outputs": [
        {
          "output_type": "execute_result",
          "data": {
            "text/plain": [
              "tensor([[0.6726, 0.4462, 0.9450],\n",
              "        [0.6595, 0.5512, 0.2106],\n",
              "        [0.8482, 0.5557, 0.7160],\n",
              "        [0.0768, 0.6437, 0.0775],\n",
              "        [0.3188, 0.7317, 0.3683]])"
            ]
          },
          "metadata": {},
          "execution_count": 31
        }
      ]
    },
    {
      "cell_type": "code",
      "source": [
        "x = torch.arange(1,101,10)\n",
        "x"
      ],
      "metadata": {
        "colab": {
          "base_uri": "https://localhost:8080/"
        },
        "id": "HHqJgkHyRiPq",
        "outputId": "ff271c87-a832-488f-c61b-db67336e0619"
      },
      "execution_count": 47,
      "outputs": [
        {
          "output_type": "execute_result",
          "data": {
            "text/plain": [
              "tensor([ 1, 11, 21, 31, 41, 51, 61, 71, 81, 91])"
            ]
          },
          "metadata": {},
          "execution_count": 47
        }
      ]
    },
    {
      "cell_type": "code",
      "source": [
        "x.min()"
      ],
      "metadata": {
        "colab": {
          "base_uri": "https://localhost:8080/"
        },
        "id": "2OkicG1bTeLe",
        "outputId": "3781aa65-21d6-4091-e4dc-11f8ccc90402"
      },
      "execution_count": 48,
      "outputs": [
        {
          "output_type": "execute_result",
          "data": {
            "text/plain": [
              "tensor(1)"
            ]
          },
          "metadata": {},
          "execution_count": 48
        }
      ]
    },
    {
      "cell_type": "code",
      "source": [
        "torch.max(x)"
      ],
      "metadata": {
        "colab": {
          "base_uri": "https://localhost:8080/"
        },
        "id": "QcfdflVtTrOR",
        "outputId": "ce7f2625-3116-4eac-d722-5d69ad5457d3"
      },
      "execution_count": 49,
      "outputs": [
        {
          "output_type": "execute_result",
          "data": {
            "text/plain": [
              "tensor(91)"
            ]
          },
          "metadata": {},
          "execution_count": 49
        }
      ]
    },
    {
      "cell_type": "code",
      "source": [
        "torch.mean(x.type(torch.float32))"
      ],
      "metadata": {
        "colab": {
          "base_uri": "https://localhost:8080/"
        },
        "id": "rUgra3qKTt3c",
        "outputId": "e3425f4d-b996-465e-b480-b7ce14e7d42f"
      },
      "execution_count": 50,
      "outputs": [
        {
          "output_type": "execute_result",
          "data": {
            "text/plain": [
              "tensor(46.)"
            ]
          },
          "metadata": {},
          "execution_count": 50
        }
      ]
    },
    {
      "cell_type": "code",
      "source": [
        "torch.sum(x)"
      ],
      "metadata": {
        "colab": {
          "base_uri": "https://localhost:8080/"
        },
        "id": "YmmIRqZUT0Zl",
        "outputId": "1a5ef9ef-7664-44a1-80d8-9090d534e05d"
      },
      "execution_count": 51,
      "outputs": [
        {
          "output_type": "execute_result",
          "data": {
            "text/plain": [
              "tensor(460)"
            ]
          },
          "metadata": {},
          "execution_count": 51
        }
      ]
    },
    {
      "cell_type": "code",
      "source": [
        "torch.argmin(x)"
      ],
      "metadata": {
        "colab": {
          "base_uri": "https://localhost:8080/"
        },
        "id": "2HuTobEiUzx8",
        "outputId": "50249c46-9d8d-49a5-c1e5-031fe342faaf"
      },
      "execution_count": 53,
      "outputs": [
        {
          "output_type": "execute_result",
          "data": {
            "text/plain": [
              "tensor(0)"
            ]
          },
          "metadata": {},
          "execution_count": 53
        }
      ]
    },
    {
      "cell_type": "code",
      "source": [
        "x.argmax()"
      ],
      "metadata": {
        "colab": {
          "base_uri": "https://localhost:8080/"
        },
        "id": "imTCVIgkU7Qo",
        "outputId": "b4dc6508-4e26-4d8c-bbba-3787fa58c47e"
      },
      "execution_count": 54,
      "outputs": [
        {
          "output_type": "execute_result",
          "data": {
            "text/plain": [
              "tensor(9)"
            ]
          },
          "metadata": {},
          "execution_count": 54
        }
      ]
    },
    {
      "cell_type": "code",
      "source": [
        "x_reshaped = x.reshape(10,1)\n",
        "x_reshaped"
      ],
      "metadata": {
        "colab": {
          "base_uri": "https://localhost:8080/"
        },
        "id": "aNpWe0r9VAy4",
        "outputId": "f61af3c4-2075-4d20-f6ea-44d180802545"
      },
      "execution_count": 57,
      "outputs": [
        {
          "output_type": "execute_result",
          "data": {
            "text/plain": [
              "tensor([[ 1],\n",
              "        [11],\n",
              "        [21],\n",
              "        [31],\n",
              "        [41],\n",
              "        [51],\n",
              "        [61],\n",
              "        [71],\n",
              "        [81],\n",
              "        [91]])"
            ]
          },
          "metadata": {},
          "execution_count": 57
        }
      ]
    },
    {
      "cell_type": "code",
      "source": [
        "x_Viewed = x.view(10,1)\n",
        "x_Viewed"
      ],
      "metadata": {
        "colab": {
          "base_uri": "https://localhost:8080/"
        },
        "id": "giqACZZ8XR4D",
        "outputId": "b3026982-8579-42be-81a9-b4a3fef6c5e6"
      },
      "execution_count": 65,
      "outputs": [
        {
          "output_type": "execute_result",
          "data": {
            "text/plain": [
              "tensor([[ 1],\n",
              "        [11],\n",
              "        [21],\n",
              "        [31],\n",
              "        [41],\n",
              "        [51],\n",
              "        [61],\n",
              "        [71],\n",
              "        [81],\n",
              "        [91]])"
            ]
          },
          "metadata": {},
          "execution_count": 65
        }
      ]
    },
    {
      "cell_type": "markdown",
      "source": [
        "Changing x_viewed also changes the x tensor coz they share the same memory"
      ],
      "metadata": {
        "id": "XEjkvqeAYB2k"
      }
    },
    {
      "cell_type": "code",
      "source": [
        "x_stacked = torch.stack([x,x,x,x])\n",
        "x_stacked"
      ],
      "metadata": {
        "colab": {
          "base_uri": "https://localhost:8080/"
        },
        "id": "9d3VYahFYfGe",
        "outputId": "96175ed1-2c69-4c08-c712-060883133db5"
      },
      "execution_count": 67,
      "outputs": [
        {
          "output_type": "execute_result",
          "data": {
            "text/plain": [
              "tensor([[ 1, 11, 21, 31, 41, 51, 61, 71, 81, 91],\n",
              "        [ 1, 11, 21, 31, 41, 51, 61, 71, 81, 91],\n",
              "        [ 1, 11, 21, 31, 41, 51, 61, 71, 81, 91],\n",
              "        [ 1, 11, 21, 31, 41, 51, 61, 71, 81, 91]])"
            ]
          },
          "metadata": {},
          "execution_count": 67
        }
      ]
    },
    {
      "cell_type": "code",
      "source": [
        "x_stacked = torch.stack([x,x,x,x],dim = 1)\n",
        "x_stacked"
      ],
      "metadata": {
        "colab": {
          "base_uri": "https://localhost:8080/"
        },
        "id": "h8BYj0HTZEy9",
        "outputId": "25f90b7c-2ce5-4bd0-a67a-8153fb58c8da"
      },
      "execution_count": 68,
      "outputs": [
        {
          "output_type": "execute_result",
          "data": {
            "text/plain": [
              "tensor([[ 1,  1,  1,  1],\n",
              "        [11, 11, 11, 11],\n",
              "        [21, 21, 21, 21],\n",
              "        [31, 31, 31, 31],\n",
              "        [41, 41, 41, 41],\n",
              "        [51, 51, 51, 51],\n",
              "        [61, 61, 61, 61],\n",
              "        [71, 71, 71, 71],\n",
              "        [81, 81, 81, 81],\n",
              "        [91, 91, 91, 91]])"
            ]
          },
          "metadata": {},
          "execution_count": 68
        }
      ]
    },
    {
      "cell_type": "code",
      "source": [
        "x_reshaped"
      ],
      "metadata": {
        "colab": {
          "base_uri": "https://localhost:8080/"
        },
        "id": "U7eccO13aDPk",
        "outputId": "e6967db8-ea7f-4722-bfd5-eae01edc8357"
      },
      "execution_count": 70,
      "outputs": [
        {
          "output_type": "execute_result",
          "data": {
            "text/plain": [
              "tensor([[ 1],\n",
              "        [11],\n",
              "        [21],\n",
              "        [31],\n",
              "        [41],\n",
              "        [51],\n",
              "        [61],\n",
              "        [71],\n",
              "        [81],\n",
              "        [91]])"
            ]
          },
          "metadata": {},
          "execution_count": 70
        }
      ]
    },
    {
      "cell_type": "code",
      "source": [
        "y = torch.squeeze(x_reshaped)\n",
        "y"
      ],
      "metadata": {
        "colab": {
          "base_uri": "https://localhost:8080/"
        },
        "id": "tdyFqp1cZaEF",
        "outputId": "886e87c9-8d06-49d7-c8b9-4b87096b177f"
      },
      "execution_count": 74,
      "outputs": [
        {
          "output_type": "execute_result",
          "data": {
            "text/plain": [
              "tensor([ 1, 11, 21, 31, 41, 51, 61, 71, 81, 91])"
            ]
          },
          "metadata": {},
          "execution_count": 74
        }
      ]
    },
    {
      "cell_type": "markdown",
      "source": [
        "It removes the dimension of size 1"
      ],
      "metadata": {
        "id": "3AajG-R-aBSM"
      }
    },
    {
      "cell_type": "code",
      "source": [
        "torch.unsqueeze(y,dim=1)"
      ],
      "metadata": {
        "colab": {
          "base_uri": "https://localhost:8080/"
        },
        "id": "_aO8DF0JaNID",
        "outputId": "3722bbda-18ce-408b-a969-5d104877f1a2"
      },
      "execution_count": 78,
      "outputs": [
        {
          "output_type": "execute_result",
          "data": {
            "text/plain": [
              "tensor([[ 1],\n",
              "        [11],\n",
              "        [21],\n",
              "        [31],\n",
              "        [41],\n",
              "        [51],\n",
              "        [61],\n",
              "        [71],\n",
              "        [81],\n",
              "        [91]])"
            ]
          },
          "metadata": {},
          "execution_count": 78
        }
      ]
    },
    {
      "cell_type": "markdown",
      "source": [
        "It adds a dimenssion"
      ],
      "metadata": {
        "id": "war3fktba3Xs"
      }
    },
    {
      "cell_type": "code",
      "source": [
        "x = torch.rand(size=[224,224,3])\n",
        "x_permute = x.permute(2,0,1)\n",
        "x_permute.shape"
      ],
      "metadata": {
        "colab": {
          "base_uri": "https://localhost:8080/"
        },
        "id": "sfE8fihobZ8J",
        "outputId": "5155df1f-098d-4c39-ee1a-3b285cf5e776"
      },
      "execution_count": 82,
      "outputs": [
        {
          "output_type": "execute_result",
          "data": {
            "text/plain": [
              "torch.Size([3, 224, 224])"
            ]
          },
          "metadata": {},
          "execution_count": 82
        }
      ]
    },
    {
      "cell_type": "markdown",
      "source": [
        "Its a view and thus shares the same memory as the original"
      ],
      "metadata": {
        "id": "-jNuQmZsb0px"
      }
    },
    {
      "cell_type": "code",
      "source": [
        "#create a tensor\n",
        "import torch\n",
        "x = torch.arange(1,10).reshape(1,3,3)"
      ],
      "metadata": {
        "id": "vas5AnSXcTk1"
      },
      "execution_count": 86,
      "outputs": []
    },
    {
      "cell_type": "code",
      "source": [
        ""
      ],
      "metadata": {
        "id": "rDXPuyg9c1-N"
      },
      "execution_count": null,
      "outputs": []
    }
  ]
}